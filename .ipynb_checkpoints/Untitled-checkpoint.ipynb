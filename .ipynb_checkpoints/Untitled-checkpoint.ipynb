{
 "cells": [
  {
   "cell_type": "code",
   "execution_count": 7,
   "metadata": {
    "collapsed": false
   },
   "outputs": [],
   "source": [
    "import re"
   ]
  },
  {
   "cell_type": "code",
   "execution_count": 12,
   "metadata": {
    "collapsed": true
   },
   "outputs": [],
   "source": [
    "# 아래에서 사용된 pattern은\n",
    "# (\\w+[\\w\\.]*) 2개와 ([A-Za-z]+) 총 세 개의 하위 표현식으로 작성되어 있다.\n",
    "line = \"My email address is SooKkaRak@gmail.com\"\n",
    "m = re.search(r\"(\\w+[\\w\\.]*)@(\\w+[\\w\\.]*)\\.([A-Za-z]+)\",\n",
    "              line)"
   ]
  },
  {
   "cell_type": "code",
   "execution_count": 13,
   "metadata": {
    "collapsed": true
   },
   "outputs": [],
   "source": [
    "# <match object> = re.search(pattern, string, flag=0)\n",
    "# group() : 일치하는 녀석들을 하나의 문자열(str)로 반환.\n",
    "# groups() : 일치하는 녀석들을 원소로 가지는 tuple 형태로 반환."
   ]
  },
  {
   "cell_type": "code",
   "execution_count": 14,
   "metadata": {
    "collapsed": false
   },
   "outputs": [
    {
     "name": "stdout",
     "output_type": "stream",
     "text": [
      "SooKkaRak@gmail.com\n"
     ]
    }
   ],
   "source": [
    "print m.group()"
   ]
  },
  {
   "cell_type": "code",
   "execution_count": 24,
   "metadata": {
    "collapsed": false
   },
   "outputs": [
    {
     "name": "stdout",
     "output_type": "stream",
     "text": [
      "('SooKkaRak', 'gmail', 'com')\n"
     ]
    }
   ],
   "source": [
    "print m.groups()"
   ]
  },
  {
   "cell_type": "code",
   "execution_count": 25,
   "metadata": {
    "collapsed": true
   },
   "outputs": [],
   "source": [
    "result = m.groups()"
   ]
  },
  {
   "cell_type": "code",
   "execution_count": 26,
   "metadata": {
    "collapsed": false
   },
   "outputs": [
    {
     "name": "stdout",
     "output_type": "stream",
     "text": [
      "SooKkaRak\n"
     ]
    }
   ],
   "source": [
    "print result[0]"
   ]
  },
  {
   "cell_type": "code",
   "execution_count": 27,
   "metadata": {
    "collapsed": false
   },
   "outputs": [
    {
     "name": "stdout",
     "output_type": "stream",
     "text": [
      "gmail\n"
     ]
    }
   ],
   "source": [
    "print result[1]"
   ]
  },
  {
   "cell_type": "code",
   "execution_count": 29,
   "metadata": {
    "collapsed": false
   },
   "outputs": [],
   "source": [
    "m = re.match(r\"(\\w+[\\w\\.]*)@(\\w+[\\w\\.]*)\\.([A-Za-z]+)\",line)"
   ]
  },
  {
   "cell_type": "code",
   "execution_count": 30,
   "metadata": {
    "collapsed": true
   },
   "outputs": [],
   "source": [
    "# 아래 print문은 수행되지 않는다.\n",
    "# 주어진 string이 이메일 형식으로 시작하지 않았기에, match 결과는 None이다.\n",
    "\n",
    "if m != None:\n",
    "    print m.group()"
   ]
  },
  {
   "cell_type": "code",
   "execution_count": 31,
   "metadata": {
    "collapsed": true
   },
   "outputs": [],
   "source": [
    "m = re.match(r\"(\\w+[\\w\\.]*)@(\\w+[\\w\\.]*)\\.([A-Za-z]+)\",line)"
   ]
  },
  {
   "cell_type": "code",
   "execution_count": 32,
   "metadata": {
    "collapsed": true
   },
   "outputs": [],
   "source": [
    "result_list = re.findall(r\"(\\w+[\\w\\.]*)@(\\w+[\\w\\.]*)\\.([A-Za-z]+)\",\n",
    "                         \"Primary email : SooKkaRak@gmail.com\\nSecondary email : Sweeper@yahoo.com\")"
   ]
  },
  {
   "cell_type": "code",
   "execution_count": 33,
   "metadata": {
    "collapsed": false
   },
   "outputs": [
    {
     "name": "stdout",
     "output_type": "stream",
     "text": [
      "[('SooKkaRak', 'gmail', 'com'), ('Sweeper', 'yahoo', 'com')]\n"
     ]
    }
   ],
   "source": [
    "print result_list"
   ]
  },
  {
   "cell_type": "code",
   "execution_count": 34,
   "metadata": {
    "collapsed": false
   },
   "outputs": [
    {
     "name": "stdout",
     "output_type": "stream",
     "text": [
      "('SooKkaRak', 'gmail', 'com')\n",
      "('Sweeper', 'yahoo', 'com')\n"
     ]
    }
   ],
   "source": [
    "for result in result_list:\n",
    "    # 첫번째 loop 결과 ('SooKkaRak', 'gmail', 'com')\n",
    "    # 두번째 loop 결과 ('Sweeper', 'yahoo', 'com')\n",
    "    print result"
   ]
  },
  {
   "cell_type": "code",
   "execution_count": 35,
   "metadata": {
    "collapsed": true
   },
   "outputs": [],
   "source": [
    "result = re.sub(r\"(\\d{3})-(\\d{3})-(\\d{4})\",\n",
    "                r\"(\\1) \\2-\\3\",\n",
    "                \"111-222-333\\n444-555-666\\n777-888-9999\")"
   ]
  },
  {
   "cell_type": "code",
   "execution_count": 36,
   "metadata": {
    "collapsed": false
   },
   "outputs": [
    {
     "name": "stdout",
     "output_type": "stream",
     "text": [
      "111-222-333\n",
      "444-555-666\n",
      "(777) 888-9999\n"
     ]
    }
   ],
   "source": [
    "print result"
   ]
  },
  {
   "cell_type": "code",
   "execution_count": 37,
   "metadata": {
    "collapsed": true
   },
   "outputs": [],
   "source": [
    "import random"
   ]
  },
  {
   "cell_type": "code",
   "execution_count": 54,
   "metadata": {
    "collapsed": false
   },
   "outputs": [
    {
     "name": "stdout",
     "output_type": "stream",
     "text": [
      "['r', 'o', 'f', 'e', 's', 's', 'o']\n",
      "['o', 'o', 'K', 'k', 'a', 'R', 'a']\n",
      "['l', 'e', 'a', 's']\n",
      "['e', 'p', 'o', 'r']\n",
      "['o', 'u']\n",
      "['b', 's', 'e', 'n', 'c', 'e']\n",
      "['r', 'o', 'm', 'p', 't', 'l']\n",
      "Psoorfesr SkoKaoRak, plasee roerpt yuor aebencss prtlmpoy.\n"
     ]
    }
   ],
   "source": [
    "def repl(m):\n",
    "        #문자열을 리스트로 저장하면, 각 문자의 리스트가 된다.\n",
    "        inner_word = list(m.group(2))\n",
    "        # 이 문자들의 집합을 마구 섞는다\n",
    "        random.shuffle(inner_word)  \n",
    "        # 시작/마지막 글자를 제외한 글자들이 모두 뒤섞인 문자열을 반환한다\n",
    "        return m.group(1) + \"\".join(inner_word) + m.group(3)\n",
    "    \n",
    "text = \"Professor SooKkaRak, please report your absences promptly.\"\n",
    "\n",
    "print re.sub(r\"(\\w)(\\w+)(\\w)\", repl, text)"
   ]
  },
  {
   "cell_type": "code",
   "execution_count": 55,
   "metadata": {
    "collapsed": false
   },
   "outputs": [
    {
     "name": "stdout",
     "output_type": "stream",
     "text": [
      "Year:1977 Month:07 Day:25\n"
     ]
    }
   ],
   "source": [
    "result = re.sub(r\"(?P<year>\\d{4})-(?P<month>\\d{2})-(?P<day>\\d{2})\",\n",
    "                r\"Year:\\g<year> Month:\\g<month> Day:\\g<day>\",\n",
    "                \"1977-07-25\")\n",
    " \n",
    "# Year:1977 Month:07 Day:25\n",
    "print result"
   ]
  },
  {
   "cell_type": "code",
   "execution_count": 58,
   "metadata": {
    "collapsed": false
   },
   "outputs": [
    {
     "name": "stdout",
     "output_type": "stream",
     "text": [
      "['one', 'two', 'three', 'four', 'five', 'six']\n"
     ]
    }
   ],
   "source": [
    "splitted = re.split(r\"[\\:\\,\\.\\s]*\", \"one, two three.four        five:six\")\n",
    " \n",
    "#['one', 'two', 'three', 'four', 'five', 'six']\n",
    "print splitted"
   ]
  },
  {
   "cell_type": "code",
   "execution_count": 59,
   "metadata": {
    "collapsed": false
   },
   "outputs": [
    {
     "ename": "NameError",
     "evalue": "name 'file_list' is not defined",
     "output_type": "error",
     "traceback": [
      "\u001b[1;31m---------------------------------------------------------------------------\u001b[0m",
      "\u001b[1;31mNameError\u001b[0m                                 Traceback (most recent call last)",
      "\u001b[1;32m<ipython-input-59-2f2971c49622>\u001b[0m in \u001b[0;36m<module>\u001b[1;34m()\u001b[0m\n\u001b[0;32m     15\u001b[0m \u001b[1;33m\u001b[0m\u001b[0m\n\u001b[0;32m     16\u001b[0m \u001b[1;31m# 파일명 목록을 돌면서 이메일 형식을 찾는다\u001b[0m\u001b[1;33m\u001b[0m\u001b[1;33m\u001b[0m\u001b[0m\n\u001b[1;32m---> 17\u001b[1;33m \u001b[1;32mfor\u001b[0m \u001b[0mfile_name\u001b[0m \u001b[1;32min\u001b[0m \u001b[0mfile_list\u001b[0m\u001b[1;33m:\u001b[0m\u001b[1;33m\u001b[0m\u001b[0m\n\u001b[0m\u001b[0;32m     18\u001b[0m         \u001b[1;31m# 파일을 열고\u001b[0m\u001b[1;33m\u001b[0m\u001b[1;33m\u001b[0m\u001b[0m\n\u001b[0;32m     19\u001b[0m         \u001b[0mf\u001b[0m \u001b[1;33m=\u001b[0m \u001b[0mopen\u001b[0m\u001b[1;33m(\u001b[0m\u001b[0mfile_name\u001b[0m\u001b[1;33m,\u001b[0m \u001b[1;34m\"r\"\u001b[0m\u001b[1;33m)\u001b[0m\u001b[1;33m\u001b[0m\u001b[0m\n",
      "\u001b[1;31mNameError\u001b[0m: name 'file_list' is not defined"
     ]
    }
   ],
   "source": [
    "# -*- coding:euc-kr -*-\n",
    " \n",
    "import sys\n",
    "\n",
    " \n",
    "# 해당 pattern을 컴파일하여, email_exp 오브젝트로 저장\n",
    "email_exp = re.compile(r\"(\\w+[\\w\\.]*)@(\\w+[\\w\\.]*)\\.([A-Za-z]+)\")\n",
    " \n",
    "# 이메일 형식의 문자열을 찾는 함수\n",
    "def find_email(line):\n",
    "        m = email_exp.search(line)\n",
    "        # 찾았다면\n",
    "        if m != None:\n",
    "                print m.group()\n",
    " \n",
    "# 파일명 목록을 돌면서 이메일 형식을 찾는다\n",
    "for file_name in file_list:\n",
    "        # 파일을 열고\n",
    "        f = open(file_name, \"r\")\n",
    "        # 파일의 모든 라인에 대해\n",
    "        for line in f.readlines():\n",
    "                # 이메일 형식의 문자열을 찾아서 출력한다\n",
    "                find_email(line)"
   ]
  },
  {
   "cell_type": "code",
   "execution_count": null,
   "metadata": {
    "collapsed": true
   },
   "outputs": [],
   "source": []
  }
 ],
 "metadata": {
  "kernelspec": {
   "display_name": "Python 2",
   "language": "python",
   "name": "python2"
  },
  "language_info": {
   "codemirror_mode": {
    "name": "ipython",
    "version": 2
   },
   "file_extension": ".py",
   "mimetype": "text/x-python",
   "name": "python",
   "nbconvert_exporter": "python",
   "pygments_lexer": "ipython2",
   "version": "2.7.11"
  }
 },
 "nbformat": 4,
 "nbformat_minor": 0
}
